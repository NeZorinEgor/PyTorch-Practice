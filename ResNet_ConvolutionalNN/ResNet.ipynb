{
 "cells": [
  {
   "cell_type": "code",
   "execution_count": 93,
   "id": "45e73d70-cb35-4484-a21d-602554dce003",
   "metadata": {},
   "outputs": [],
   "source": [
    "import torch\n",
    "import torch.nn as nn\n",
    "import torchvision as tv\n",
    "import torchvision.transforms as transforms\n",
    "from torchvision.datasets import ImageFolder\n",
    "from torch.utils.data import DataLoader\n",
    "\n",
    "from tqdm import tqdm\n",
    "import numpy as np \n",
    "import matplotlib.pyplot as plt"
   ]
  },
  {
   "cell_type": "code",
   "execution_count": 94,
   "id": "82b53ed9",
   "metadata": {},
   "outputs": [
    {
     "data": {
      "text/plain": [
       "'cpu'"
      ]
     },
     "execution_count": 94,
     "metadata": {},
     "output_type": "execute_result"
    }
   ],
   "source": [
    "device = \"cuda\" if torch.cuda.is_available() else \"cpu\"\n",
    "device"
   ]
  },
  {
   "cell_type": "code",
   "execution_count": 97,
   "id": "ff49baa8",
   "metadata": {},
   "outputs": [],
   "source": [
    "train_transforms = transforms.Compose([\n",
    "    transforms.ToTensor(),\n",
    "    transforms.Resize(256),\n",
    "    transforms.RandomRotation(15),\n",
    "    transforms.CenterCrop(256),\n",
    "    transforms.Normalize(mean = [0.485, 0.456, 0.406], std = [0.229, 0.224, 0.225]),\n",
    "    transforms.RandomHorizontalFlip(0.5)\n",
    "    \n",
    "])\n",
    "\n",
    "validation_transforms = transforms.Compose([\n",
    "    transforms.ToTensor(),\n",
    "    transforms.Normalize(mean = [0.485, 0.456, 0.406], std = [0.229, 0.224, 0.225]),\n",
    "])"
   ]
  },
  {
   "cell_type": "code",
   "execution_count": 99,
   "id": "b217ff7e",
   "metadata": {},
   "outputs": [],
   "source": [
    "train_ds = ImageFolder(\"dataset/train\", transform=train_transforms)\n",
    "validation_ds = ImageFolder(\"dataset/validation\", transform=validation_transforms)"
   ]
  },
  {
   "cell_type": "code",
   "execution_count": 100,
   "id": "488ae155",
   "metadata": {},
   "outputs": [
    {
     "data": {
      "text/plain": [
       "torch.Size([3, 240, 240])"
      ]
     },
     "execution_count": 100,
     "metadata": {},
     "output_type": "execute_result"
    }
   ],
   "source": [
    "img, label = validation_ds[32]\n",
    "img.shape"
   ]
  },
  {
   "cell_type": "code",
   "execution_count": 102,
   "id": "07ae0f03",
   "metadata": {},
   "outputs": [],
   "source": [
    "batch_size = 16\n",
    "\n",
    "train_loader = DataLoader(train_ds, batch_size=batch_size, shuffle=True)\n",
    "validation_loader = DataLoader(validation_ds, batch_size=batch_size, shuffle=True)"
   ]
  },
  {
   "cell_type": "code",
   "execution_count": 103,
   "id": "847614bc",
   "metadata": {},
   "outputs": [
    {
     "data": {
      "text/plain": [
       "(45, 8)"
      ]
     },
     "execution_count": 103,
     "metadata": {},
     "output_type": "execute_result"
    }
   ],
   "source": [
    "len(train_loader), len(validation_loader)"
   ]
  },
  {
   "cell_type": "code",
   "execution_count": 122,
   "id": "c9182c55",
   "metadata": {},
   "outputs": [],
   "source": [
    "model = tv.models.resnet18(pretrained=True)\n",
    "model.fc = nn.Linear(model.fc.in_features, 3)\n",
    "model.to(device)\n",
    "\n",
    "loss_fn = nn.CrossEntropyLoss()\n",
    "optimizer = torch.optim.Adam(model.parameters(), lr=0.0005)"
   ]
  },
  {
   "cell_type": "code",
   "execution_count": 123,
   "id": "de598426",
   "metadata": {},
   "outputs": [
    {
     "name": "stderr",
     "output_type": "stream",
     "text": [
      "epocs [1/15]: 100%|██████████| 45/45 [00:49<00:00,  1.11s/it]\n"
     ]
    },
    {
     "name": "stdout",
     "output_type": "stream",
     "text": [
      "train_loss: 0.4107516407966614, train_accuracy: 0.630098452883263\n"
     ]
    },
    {
     "name": "stderr",
     "output_type": "stream",
     "text": [
      "100%|██████████| 8/8 [00:02<00:00,  3.33it/s]\n"
     ]
    },
    {
     "name": "stdout",
     "output_type": "stream",
     "text": [
      "val_loss: 1.786460280418396, val_accuracy: 0.7192982456140351,\n",
      "BEST RESULT SAVED\n"
     ]
    },
    {
     "name": "stderr",
     "output_type": "stream",
     "text": [
      "epocs [2/15]: 100%|██████████| 45/45 [00:47<00:00,  1.05s/it]\n"
     ]
    },
    {
     "name": "stdout",
     "output_type": "stream",
     "text": [
      "train_loss: 0.4776764214038849, train_accuracy: 0.7932489451476793\n"
     ]
    },
    {
     "name": "stderr",
     "output_type": "stream",
     "text": [
      "100%|██████████| 8/8 [00:02<00:00,  3.32it/s]\n"
     ]
    },
    {
     "name": "stdout",
     "output_type": "stream",
     "text": [
      "val_loss: 0.40577155351638794, val_accuracy: 0.8157894736842105,\n",
      "BEST RESULT SAVED\n"
     ]
    },
    {
     "name": "stderr",
     "output_type": "stream",
     "text": [
      "epocs [3/15]: 100%|██████████| 45/45 [00:54<00:00,  1.22s/it]\n"
     ]
    },
    {
     "name": "stdout",
     "output_type": "stream",
     "text": [
      "train_loss: 0.3059539794921875, train_accuracy: 0.8354430379746836\n"
     ]
    },
    {
     "name": "stderr",
     "output_type": "stream",
     "text": [
      "100%|██████████| 8/8 [00:02<00:00,  2.95it/s]\n"
     ]
    },
    {
     "name": "stdout",
     "output_type": "stream",
     "text": [
      "val_loss: 1.221442699432373, val_accuracy: 0.7982456140350878,\n"
     ]
    },
    {
     "name": "stderr",
     "output_type": "stream",
     "text": [
      "epocs [4/15]: 100%|██████████| 45/45 [00:59<00:00,  1.32s/it]\n"
     ]
    },
    {
     "name": "stdout",
     "output_type": "stream",
     "text": [
      "train_loss: 0.17637062072753906, train_accuracy: 0.8677918424753868\n"
     ]
    },
    {
     "name": "stderr",
     "output_type": "stream",
     "text": [
      "100%|██████████| 8/8 [00:03<00:00,  2.54it/s]\n"
     ]
    },
    {
     "name": "stdout",
     "output_type": "stream",
     "text": [
      "val_loss: 1.8217335939407349, val_accuracy: 0.8508771929824561,\n",
      "BEST RESULT SAVED\n"
     ]
    },
    {
     "name": "stderr",
     "output_type": "stream",
     "text": [
      "epocs [5/15]: 100%|██████████| 45/45 [00:57<00:00,  1.27s/it]\n"
     ]
    },
    {
     "name": "stdout",
     "output_type": "stream",
     "text": [
      "train_loss: 0.16653504967689514, train_accuracy: 0.9043600562587905\n"
     ]
    },
    {
     "name": "stderr",
     "output_type": "stream",
     "text": [
      "100%|██████████| 8/8 [00:03<00:00,  2.49it/s]\n"
     ]
    },
    {
     "name": "stdout",
     "output_type": "stream",
     "text": [
      "val_loss: 0.5833613276481628, val_accuracy: 0.868421052631579,\n",
      "BEST RESULT SAVED\n"
     ]
    },
    {
     "name": "stderr",
     "output_type": "stream",
     "text": [
      "epocs [6/15]: 100%|██████████| 45/45 [00:56<00:00,  1.25s/it]\n"
     ]
    },
    {
     "name": "stdout",
     "output_type": "stream",
     "text": [
      "train_loss: 0.01805409975349903, train_accuracy: 0.9353023909985936\n"
     ]
    },
    {
     "name": "stderr",
     "output_type": "stream",
     "text": [
      "100%|██████████| 8/8 [00:03<00:00,  2.28it/s]\n"
     ]
    },
    {
     "name": "stdout",
     "output_type": "stream",
     "text": [
      "val_loss: 0.12687264382839203, val_accuracy: 0.8508771929824561,\n"
     ]
    },
    {
     "name": "stderr",
     "output_type": "stream",
     "text": [
      "epocs [7/15]: 100%|██████████| 45/45 [00:58<00:00,  1.30s/it]\n"
     ]
    },
    {
     "name": "stdout",
     "output_type": "stream",
     "text": [
      "train_loss: 0.06660553067922592, train_accuracy: 0.9127988748241913\n"
     ]
    },
    {
     "name": "stderr",
     "output_type": "stream",
     "text": [
      "100%|██████████| 8/8 [00:03<00:00,  2.51it/s]\n"
     ]
    },
    {
     "name": "stdout",
     "output_type": "stream",
     "text": [
      "val_loss: 0.014561714604496956, val_accuracy: 0.8596491228070176,\n"
     ]
    },
    {
     "name": "stderr",
     "output_type": "stream",
     "text": [
      "epocs [8/15]: 100%|██████████| 45/45 [00:56<00:00,  1.27s/it]\n"
     ]
    },
    {
     "name": "stdout",
     "output_type": "stream",
     "text": [
      "train_loss: 1.0163716077804565, train_accuracy: 0.9240506329113924\n"
     ]
    },
    {
     "name": "stderr",
     "output_type": "stream",
     "text": [
      "100%|██████████| 8/8 [00:02<00:00,  2.98it/s]\n"
     ]
    },
    {
     "name": "stdout",
     "output_type": "stream",
     "text": [
      "val_loss: 0.2479267716407776, val_accuracy: 0.868421052631579,\n"
     ]
    },
    {
     "name": "stderr",
     "output_type": "stream",
     "text": [
      "epocs [9/15]: 100%|██████████| 45/45 [00:59<00:00,  1.33s/it]\n"
     ]
    },
    {
     "name": "stdout",
     "output_type": "stream",
     "text": [
      "train_loss: 0.7859473824501038, train_accuracy: 0.9353023909985936\n"
     ]
    },
    {
     "name": "stderr",
     "output_type": "stream",
     "text": [
      "100%|██████████| 8/8 [00:03<00:00,  2.35it/s]\n"
     ]
    },
    {
     "name": "stdout",
     "output_type": "stream",
     "text": [
      "val_loss: 0.11972057819366455, val_accuracy: 0.868421052631579,\n"
     ]
    },
    {
     "name": "stderr",
     "output_type": "stream",
     "text": [
      "epocs [10/15]: 100%|██████████| 45/45 [00:46<00:00,  1.02s/it]\n"
     ]
    },
    {
     "name": "stdout",
     "output_type": "stream",
     "text": [
      "train_loss: 0.12031764537096024, train_accuracy: 0.9212376933895922\n"
     ]
    },
    {
     "name": "stderr",
     "output_type": "stream",
     "text": [
      "100%|██████████| 8/8 [00:02<00:00,  3.25it/s]\n"
     ]
    },
    {
     "name": "stdout",
     "output_type": "stream",
     "text": [
      "val_loss: 2.9864814281463623, val_accuracy: 0.8421052631578947,\n"
     ]
    },
    {
     "name": "stderr",
     "output_type": "stream",
     "text": [
      "epocs [11/15]: 100%|██████████| 45/45 [00:44<00:00,  1.02it/s]\n"
     ]
    },
    {
     "name": "stdout",
     "output_type": "stream",
     "text": [
      "train_loss: 0.11620467156171799, train_accuracy: 0.9381153305203939\n"
     ]
    },
    {
     "name": "stderr",
     "output_type": "stream",
     "text": [
      "100%|██████████| 8/8 [00:02<00:00,  3.51it/s]\n"
     ]
    },
    {
     "name": "stdout",
     "output_type": "stream",
     "text": [
      "val_loss: 0.05596505478024483, val_accuracy: 0.868421052631579,\n"
     ]
    },
    {
     "name": "stderr",
     "output_type": "stream",
     "text": [
      "epocs [12/15]: 100%|██████████| 45/45 [00:44<00:00,  1.02it/s]\n"
     ]
    },
    {
     "name": "stdout",
     "output_type": "stream",
     "text": [
      "train_loss: 0.12465514242649078, train_accuracy: 0.9563994374120957\n"
     ]
    },
    {
     "name": "stderr",
     "output_type": "stream",
     "text": [
      "100%|██████████| 8/8 [00:02<00:00,  2.99it/s]\n"
     ]
    },
    {
     "name": "stdout",
     "output_type": "stream",
     "text": [
      "val_loss: 0.21051077544689178, val_accuracy: 0.8157894736842105,\n"
     ]
    },
    {
     "name": "stderr",
     "output_type": "stream",
     "text": [
      "epocs [13/15]: 100%|██████████| 45/45 [00:44<00:00,  1.01it/s]\n"
     ]
    },
    {
     "name": "stdout",
     "output_type": "stream",
     "text": [
      "train_loss: 0.127671480178833, train_accuracy: 0.960618846694796\n"
     ]
    },
    {
     "name": "stderr",
     "output_type": "stream",
     "text": [
      "100%|██████████| 8/8 [00:02<00:00,  3.33it/s]\n"
     ]
    },
    {
     "name": "stdout",
     "output_type": "stream",
     "text": [
      "val_loss: 1.6269283294677734, val_accuracy: 0.868421052631579,\n"
     ]
    },
    {
     "name": "stderr",
     "output_type": "stream",
     "text": [
      "epocs [14/15]: 100%|██████████| 45/45 [00:44<00:00,  1.01it/s]\n"
     ]
    },
    {
     "name": "stdout",
     "output_type": "stream",
     "text": [
      "train_loss: 0.00819678045809269, train_accuracy: 0.9662447257383966\n"
     ]
    },
    {
     "name": "stderr",
     "output_type": "stream",
     "text": [
      "100%|██████████| 8/8 [00:02<00:00,  3.48it/s]\n"
     ]
    },
    {
     "name": "stdout",
     "output_type": "stream",
     "text": [
      "val_loss: 0.07251562178134918, val_accuracy: 0.9035087719298246,\n",
      "BEST RESULT SAVED\n"
     ]
    },
    {
     "name": "stderr",
     "output_type": "stream",
     "text": [
      "epocs [15/15]:  80%|████████  | 36/45 [00:36<00:09,  1.10s/it]"
     ]
    }
   ],
   "source": [
    "model.train()\n",
    "best_accuracy = 0\n",
    "\n",
    "for i in range(15):\n",
    "    correct = 0\n",
    "    total = 0\n",
    "    for imgs, labels in tqdm(train_loader, desc=f\"epocs [{i+1}/15]\"):\n",
    "        imgs, labels = imgs.to(device), labels.to(device)\n",
    "        optimizer.zero_grad()\n",
    "        outputs = model(imgs)\n",
    "        \n",
    "        train_loss = loss_fn(outputs, labels)\n",
    "        _, predict = outputs.max(1)\n",
    "        train_loss.backward()\n",
    "        optimizer.step()\n",
    "\n",
    "        total += len(labels)\n",
    "        correct += predict.eq(labels).sum().item()\n",
    "    print(f\"train_loss: {train_loss.item()}, train_accuracy: {correct/total}\")\n",
    "\n",
    "    val_correct = 0\n",
    "    val_total = 0\n",
    "    with torch.no_grad():\n",
    "        for imgs, labels in tqdm(validation_loader):\n",
    "            imgs, labels = imgs.to(device), labels.to(device)\n",
    "            outputs = model(imgs)\n",
    "            validation_loss = loss_fn(outputs, labels)\n",
    "\n",
    "            _, predict = outputs.max(1)\n",
    "\n",
    "            val_correct += predict.eq(labels).sum().item()\n",
    "            val_total += len(labels)\n",
    "            val_accuracy = val_correct/val_total\n",
    "        print(f\"val_loss: {validation_loss.item()}, val_accuracy: {val_accuracy},\")\n",
    "        if val_accuracy > best_accuracy:\n",
    "            best_accuracy = val_accuracy\n",
    "            torch.save(model.state_dict(), \"new_best_model.pth\")\n",
    "            print(\"BEST RESULT SAVED\")\n",
    "\n",
    "\n",
    "print(correct/total)"
   ]
  },
  {
   "cell_type": "code",
   "execution_count": 113,
   "id": "30566d43",
   "metadata": {},
   "outputs": [
    {
     "name": "stderr",
     "output_type": "stream",
     "text": [
      "100%|██████████| 8/8 [00:08<00:00,  1.11s/it]"
     ]
    },
    {
     "name": "stdout",
     "output_type": "stream",
     "text": [
      "Validation accuracy: 0.8245614035087719\n",
      "0.8579465541490858\n"
     ]
    },
    {
     "name": "stderr",
     "output_type": "stream",
     "text": [
      "\n"
     ]
    }
   ],
   "source": [
    "val_correct = 0\n",
    "val_total = 0\n",
    "with torch.no_grad():\n",
    "    for imgs, labels in tqdm(validation_loader):\n",
    "        imgs, labels = imgs.to(device), labels.to(device)\n",
    "        outputs = model(imgs)\n",
    "        loss = loss_fn(outputs, labels)\n",
    "\n",
    "        _, predict = outputs.max(1)\n",
    "\n",
    "        val_correct += predict.eq(labels).sum().item()\n",
    "        val_total += len(labels)\n",
    "        val_accuracy = val_correct/val_total\n",
    "    print(f\"Validation accuracy: {val_accuracy}\")\n",
    "print(correct/total)"
   ]
  }
 ],
 "metadata": {
  "kernelspec": {
   "display_name": ".venv",
   "language": "python",
   "name": "python3"
  },
  "language_info": {
   "codemirror_mode": {
    "name": "ipython",
    "version": 3
   },
   "file_extension": ".py",
   "mimetype": "text/x-python",
   "name": "python",
   "nbconvert_exporter": "python",
   "pygments_lexer": "ipython3",
   "version": "3.12.3"
  }
 },
 "nbformat": 4,
 "nbformat_minor": 5
}
