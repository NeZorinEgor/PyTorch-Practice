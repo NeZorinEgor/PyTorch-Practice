{
  "nbformat": 4,
  "nbformat_minor": 0,
  "metadata": {
    "colab": {
      "provenance": [],
      "gpuType": "T4",
      "authorship_tag": "ABX9TyMwxa7+20VfC7V+Ve2wYz2i",
      "include_colab_link": true
    },
    "kernelspec": {
      "name": "python3",
      "display_name": "Python 3"
    },
    "language_info": {
      "name": "python"
    },
    "accelerator": "GPU"
  },
  "cells": [
    {
      "cell_type": "markdown",
      "metadata": {
        "id": "view-in-github",
        "colab_type": "text"
      },
      "source": [
        "<a href=\"https://colab.research.google.com/github/NeZorinEgor/PyTorch-Practice/blob/main/MNIST_classification.ipynb\" target=\"_parent\"><img src=\"https://colab.research.google.com/assets/colab-badge.svg\" alt=\"Open In Colab\"/></a>"
      ]
    },
    {
      "cell_type": "code",
      "execution_count": 57,
      "metadata": {
        "id": "87XYtzEVJEAa"
      },
      "outputs": [],
      "source": [
        "import torch\n",
        "import torch.nn as nn\n",
        "import torchvision as tv\n",
        "import torchvision.transforms as transforms\n",
        "import cv2\n",
        "import numpy as np\n",
        "from torch.utils.data import DataLoader\n",
        "from PIL import Image\n",
        "\n",
        "import matplotlib.pyplot as plt\n",
        "from tqdm import tqdm"
      ]
    },
    {
      "cell_type": "code",
      "source": [
        "device = \"cuda\" if torch.cuda.is_available() else \"cpu\"\n",
        "device"
      ],
      "metadata": {
        "colab": {
          "base_uri": "https://localhost:8080/",
          "height": 55
        },
        "id": "EVB9hGQjPise",
        "outputId": "bd48d79e-60e1-4581-a570-2f02ae823794"
      },
      "execution_count": null,
      "outputs": [
        {
          "output_type": "execute_result",
          "data": {
            "text/plain": [
              "'cuda'"
            ],
            "application/vnd.google.colaboratory.intrinsic+json": {
              "type": "string"
            }
          },
          "metadata": {},
          "execution_count": 2
        }
      ]
    },
    {
      "cell_type": "code",
      "source": [
        "transform = tv.transforms.Compose([\n",
        "    tv.transforms.ToTensor(),\n",
        "    tv.transforms.Normalize(mean=(0.5), std=(0.5))\n",
        "])"
      ],
      "metadata": {
        "id": "AiUPU9-UJnQW"
      },
      "execution_count": null,
      "outputs": []
    },
    {
      "cell_type": "code",
      "source": [
        "dataset_mnist = tv.datasets.MNIST(\n",
        "    \"./datasets\",\n",
        "    download=True,\n",
        "    transform=transform\n",
        ")"
      ],
      "metadata": {
        "colab": {
          "base_uri": "https://localhost:8080/"
        },
        "id": "wpY2L3u8Jb6n",
        "outputId": "34285ae3-eb45-44f0-a08d-cdd4338e7723"
      },
      "execution_count": null,
      "outputs": [
        {
          "output_type": "stream",
          "name": "stdout",
          "text": [
            "Downloading http://yann.lecun.com/exdb/mnist/train-images-idx3-ubyte.gz\n",
            "Failed to download (trying next):\n",
            "HTTP Error 403: Forbidden\n",
            "\n",
            "Downloading https://ossci-datasets.s3.amazonaws.com/mnist/train-images-idx3-ubyte.gz\n",
            "Downloading https://ossci-datasets.s3.amazonaws.com/mnist/train-images-idx3-ubyte.gz to ./datasets/MNIST/raw/train-images-idx3-ubyte.gz\n"
          ]
        },
        {
          "output_type": "stream",
          "name": "stderr",
          "text": [
            "100%|██████████| 9912422/9912422 [00:02<00:00, 4584377.60it/s]\n"
          ]
        },
        {
          "output_type": "stream",
          "name": "stdout",
          "text": [
            "Extracting ./datasets/MNIST/raw/train-images-idx3-ubyte.gz to ./datasets/MNIST/raw\n",
            "\n",
            "Downloading http://yann.lecun.com/exdb/mnist/train-labels-idx1-ubyte.gz\n",
            "Failed to download (trying next):\n",
            "HTTP Error 403: Forbidden\n",
            "\n",
            "Downloading https://ossci-datasets.s3.amazonaws.com/mnist/train-labels-idx1-ubyte.gz\n",
            "Downloading https://ossci-datasets.s3.amazonaws.com/mnist/train-labels-idx1-ubyte.gz to ./datasets/MNIST/raw/train-labels-idx1-ubyte.gz\n"
          ]
        },
        {
          "output_type": "stream",
          "name": "stderr",
          "text": [
            "100%|██████████| 28881/28881 [00:00<00:00, 134711.82it/s]\n"
          ]
        },
        {
          "output_type": "stream",
          "name": "stdout",
          "text": [
            "Extracting ./datasets/MNIST/raw/train-labels-idx1-ubyte.gz to ./datasets/MNIST/raw\n",
            "\n",
            "Downloading http://yann.lecun.com/exdb/mnist/t10k-images-idx3-ubyte.gz\n",
            "Failed to download (trying next):\n",
            "HTTP Error 403: Forbidden\n",
            "\n",
            "Downloading https://ossci-datasets.s3.amazonaws.com/mnist/t10k-images-idx3-ubyte.gz\n",
            "Downloading https://ossci-datasets.s3.amazonaws.com/mnist/t10k-images-idx3-ubyte.gz to ./datasets/MNIST/raw/t10k-images-idx3-ubyte.gz\n"
          ]
        },
        {
          "output_type": "stream",
          "name": "stderr",
          "text": [
            "100%|██████████| 1648877/1648877 [00:01<00:00, 1106616.28it/s]\n"
          ]
        },
        {
          "output_type": "stream",
          "name": "stdout",
          "text": [
            "Extracting ./datasets/MNIST/raw/t10k-images-idx3-ubyte.gz to ./datasets/MNIST/raw\n",
            "\n",
            "Downloading http://yann.lecun.com/exdb/mnist/t10k-labels-idx1-ubyte.gz\n",
            "Failed to download (trying next):\n",
            "HTTP Error 403: Forbidden\n",
            "\n",
            "Downloading https://ossci-datasets.s3.amazonaws.com/mnist/t10k-labels-idx1-ubyte.gz\n",
            "Downloading https://ossci-datasets.s3.amazonaws.com/mnist/t10k-labels-idx1-ubyte.gz to ./datasets/MNIST/raw/t10k-labels-idx1-ubyte.gz\n"
          ]
        },
        {
          "output_type": "stream",
          "name": "stderr",
          "text": [
            "100%|██████████| 4542/4542 [00:00<00:00, 3803259.89it/s]"
          ]
        },
        {
          "output_type": "stream",
          "name": "stdout",
          "text": [
            "Extracting ./datasets/MNIST/raw/t10k-labels-idx1-ubyte.gz to ./datasets/MNIST/raw\n",
            "\n"
          ]
        },
        {
          "output_type": "stream",
          "name": "stderr",
          "text": [
            "\n"
          ]
        }
      ]
    },
    {
      "cell_type": "code",
      "source": [
        "train_dataset, test_dataset = torch.utils.data.random_split(\n",
        "    dataset_mnist,\n",
        "    [50000, 10000]\n",
        ")"
      ],
      "metadata": {
        "id": "71o2lAT0KO4c"
      },
      "execution_count": null,
      "outputs": []
    },
    {
      "cell_type": "code",
      "source": [
        "train_data, val_data = torch.utils.data.random_split(\n",
        "    train_dataset,\n",
        "    [0.8, 0.2]\n",
        ")"
      ],
      "metadata": {
        "id": "86-p6thsQs2-"
      },
      "execution_count": null,
      "outputs": []
    },
    {
      "cell_type": "code",
      "source": [
        "train_loader = DataLoader(train_data, batch_size=16, shuffle=True)\n",
        "val_loader = DataLoader(val_data, batch_size=16, shuffle=True)\n",
        "test_loader = DataLoader(test_dataset, batch_size=16, shuffle=True)"
      ],
      "metadata": {
        "id": "j0gBIokMArMX"
      },
      "execution_count": null,
      "outputs": []
    },
    {
      "cell_type": "code",
      "source": [
        "class MNISTModel(nn.Module):\n",
        "  def __init__(self):\n",
        "     super().__init__()\n",
        "     self.layer_1 = nn.Linear(784, 128)\n",
        "     self.layer_2 = nn.Linear(128, 10)\n",
        "     self.act = nn.ReLU()\n",
        "\n",
        "  def forward(self, x):\n",
        "     x = self.layer_1(x)\n",
        "     x = self.act(x)\n",
        "     out = self.layer_2(x)\n",
        "     return out\n",
        "\n",
        "model = MNISTModel().to(device)"
      ],
      "metadata": {
        "id": "8hlXHnEuLBpX"
      },
      "execution_count": 38,
      "outputs": []
    },
    {
      "cell_type": "code",
      "source": [
        "loss_fn = nn.CrossEntropyLoss()\n",
        "optimizer = torch.optim.SGD(model.parameters(), lr=0.001)"
      ],
      "metadata": {
        "id": "iu7H8As9NuEN"
      },
      "execution_count": 39,
      "outputs": []
    },
    {
      "cell_type": "code",
      "source": [
        "input = torch.rand([16, 784], dtype=torch.float32).to(device)\n",
        "\n",
        "out = model(input)\n",
        "out.shape"
      ],
      "metadata": {
        "colab": {
          "base_uri": "https://localhost:8080/"
        },
        "id": "iwLifBT5P2lx",
        "outputId": "7bbb95b2-c213-49e2-81d0-0a3c00c84167"
      },
      "execution_count": 40,
      "outputs": [
        {
          "output_type": "execute_result",
          "data": {
            "text/plain": [
              "torch.Size([16, 10])"
            ]
          },
          "metadata": {},
          "execution_count": 40
        }
      ]
    },
    {
      "cell_type": "code",
      "source": [
        "epochs = 5\n",
        "train_loss = []\n",
        "train_acc = []\n",
        "val_loss = []\n",
        "val_acc = []\n",
        "\n",
        "for epoch in range(epochs):\n",
        "  # Тренировка\n",
        "  model.train()\n",
        "  running_train_loss = []\n",
        "  true_answer = 0\n",
        "  train_loop = tqdm(train_loader, leave=False)\n",
        "  for img, label in train_loop:\n",
        "    # (batch_size, 1, 28, 28) =>  (batch_size, 784)\n",
        "    img = img.reshape(-1, 28*28).to(device)\n",
        "    label = label.reshape(-1).to(torch.int32)\n",
        "    label = torch.eye(10)[label].to(device)\n",
        "\n",
        "    # Прямой проход + расчет ошибки\n",
        "    predict = model(img)\n",
        "    loss = loss_fn(predict, label)\n",
        "\n",
        "    # Обратный проход и шаг оптимизации\n",
        "    optimizer.zero_grad()\n",
        "    loss.backward()\n",
        "    optimizer.step()\n",
        "\n",
        "    running_train_loss.append(loss.item())\n",
        "    mean_train_loss = sum(running_train_loss)/len(running_train_loss)\n",
        "\n",
        "    true_answer += (predict.argmax(dim=1) == label.argmax(dim=1)).sum().item()\n",
        "\n",
        "    train_loop.set_description(f\"Epoch [{epoch+1}/{epochs}], train_loss={mean_train_loss:.4f}\")\n",
        "\n",
        "  # Расчёт значения метрики\n",
        "  running_train_acc = true_answer / len(train_data)\n",
        "\n",
        "  train_loss.append(mean_train_loss)\n",
        "  train_acc.append(running_train_acc)\n",
        "\n",
        "  # Проверка модели (валидация)\n",
        "  model.eval()\n",
        "  running_val_loss = []\n",
        "  true_answer = 0\n",
        "  with torch.no_grad():\n",
        "    for img, label in val_loader:\n",
        "      img = img.reshape(-1, 28*28).to(device)\n",
        "      # (batch_size, int) =>  (batch_size, 10), dtype=float32\n",
        "      label = label.reshape(-1).to(torch.int32)\n",
        "      label = torch.eye(10)[label].to(device)\n",
        "\n",
        "      predict = model(img)\n",
        "      loss = loss_fn(predict, label)\n",
        "\n",
        "      running_val_loss.append(loss.item())\n",
        "      mean_val_loss = sum(running_val_loss) / len(running_val_loss)\n",
        "\n",
        "      true_answer += (predict.argmax(dim=1) == label.argmax(dim=1)).sum().item()\n",
        "\n",
        "    running_val_acc = true_answer / len(val_data)\n",
        "    val_loss.append(mean_val_loss)\n",
        "    val_acc.append(running_val_acc)\n",
        "\n",
        "    print(f\"Epoch [{epoch + 1}/{epochs}], train_loss={mean_train_loss:.4f}, train_acc={running_train_acc:.4f}, val_loss={mean_val_loss:.4f}, val_acc={running_val_acc:.4f}\")"
      ],
      "metadata": {
        "colab": {
          "base_uri": "https://localhost:8080/"
        },
        "id": "ZSIR9wnrRCNk",
        "outputId": "d4166671-45c3-45ef-a820-907801447ebb"
      },
      "execution_count": 41,
      "outputs": [
        {
          "output_type": "stream",
          "name": "stderr",
          "text": []
        },
        {
          "output_type": "stream",
          "name": "stdout",
          "text": [
            "Epoch [1/5], train_loss=1.3791, train_acc=0.6995, val_loss=0.7869, val_acc=0.8349\n"
          ]
        },
        {
          "output_type": "stream",
          "name": "stderr",
          "text": []
        },
        {
          "output_type": "stream",
          "name": "stdout",
          "text": [
            "Epoch [2/5], train_loss=0.6134, train_acc=0.8560, val_loss=0.5191, val_acc=0.8702\n"
          ]
        },
        {
          "output_type": "stream",
          "name": "stderr",
          "text": []
        },
        {
          "output_type": "stream",
          "name": "stdout",
          "text": [
            "Epoch [3/5], train_loss=0.4674, train_acc=0.8787, val_loss=0.4366, val_acc=0.8829\n"
          ]
        },
        {
          "output_type": "stream",
          "name": "stderr",
          "text": []
        },
        {
          "output_type": "stream",
          "name": "stdout",
          "text": [
            "Epoch [4/5], train_loss=0.4100, train_acc=0.8878, val_loss=0.3958, val_acc=0.8903\n"
          ]
        },
        {
          "output_type": "stream",
          "name": "stderr",
          "text": []
        },
        {
          "output_type": "stream",
          "name": "stdout",
          "text": [
            "Epoch [5/5], train_loss=0.3787, train_acc=0.8943, val_loss=0.3729, val_acc=0.8950\n"
          ]
        }
      ]
    },
    {
      "cell_type": "code",
      "source": [
        "plt.plot(train_loss)\n",
        "plt.plot(val_loss)\n",
        "plt.legend([\"Loss train\", \"Loss val\"])\n",
        "plt.show()"
      ],
      "metadata": {
        "colab": {
          "base_uri": "https://localhost:8080/",
          "height": 430
        },
        "id": "gN-QqrA-rbWP",
        "outputId": "6fca0492-6e79-40bc-da52-645003100171"
      },
      "execution_count": 44,
      "outputs": [
        {
          "output_type": "display_data",
          "data": {
            "text/plain": [
              "<Figure size 640x480 with 1 Axes>"
            ],
            "image/png": "[encoded data removed]"
          },
          "metadata": {}
        }
      ]
    },
    {
      "cell_type": "code",
      "source": [
        "plt.plot(train_acc)\n",
        "plt.plot(val_acc)\n",
        "plt.legend([\"acc train\", \"acc val\"])\n",
        "plt.show()"
      ],
      "metadata": {
        "colab": {
          "base_uri": "https://localhost:8080/",
          "height": 430
        },
        "id": "e3JJCJW5tYCj",
        "outputId": "a66c4cb4-3a6f-4361-ef5b-0ccbb0768e68"
      },
      "execution_count": 46,
      "outputs": [
        {
          "output_type": "display_data",
          "data": {
            "text/plain": [
              "<Figure size 640x480 with 1 Axes>"
            ],
            "image/png": "[encoded data removed]"
          },
          "metadata": {}
        }
      ]
    }
  ]
}